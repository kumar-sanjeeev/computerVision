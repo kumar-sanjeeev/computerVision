{
 "cells": [
  {
   "cell_type": "code",
   "execution_count": 14,
   "id": "e2c7125d",
   "metadata": {},
   "outputs": [],
   "source": [
    "import numpy as np\n",
    "import matplotlib.image as mpimg\n",
    "import matplotlib.pyplot as plt\n",
    "import cv2 "
   ]
  },
  {
   "cell_type": "code",
   "execution_count": 15,
   "id": "b9e7f29f",
   "metadata": {},
   "outputs": [],
   "source": [
    "# creating the different filters kernel\n",
    "\n",
    "gaussain_kernel = 1/9*np.array([[1,1,1],\n",
    "                               [1,1,1],\n",
    "                               [1,1,1]])\n",
    "sobel_x = np.array([[-1,0,1],\n",
    "                  [-2,0,2],\n",
    "                  [-1,0,1]])\n",
    "\n",
    "sobel_y = np.array([[-1,-2,-1],\n",
    "                  [0,0,0],\n",
    "                  [1,2,1]])\n",
    "\n",
    "laplican_kernel = np.array([[0,1,0],\n",
    "                          [1,-4,1],\n",
    "                          [0,1,0]])\n",
    "filters = [gaussain_kernel,sobel_x,sobel_y,laplican_kernel]\n",
    "filters_name = ['Gaussian','Sobel_X','Sobel_Y','Laplican']\n"
   ]
  },
  {
   "cell_type": "code",
   "execution_count": 16,
   "id": "d484a120",
   "metadata": {},
   "outputs": [],
   "source": [
    "# Now take the FT over all filters\n",
    "\n",
    "f_filters = [np.fft.fft2(x) for x in filters]\n",
    "f_shifts = [np.fft.fftshift(y) for y in f_filters]\n",
    "f_spectrum = [np.log(np.abs(z)+1) for z in f_shifts]\n"
   ]
  },
  {
   "cell_type": "code",
   "execution_count": 18,
   "id": "e9dd92e0",
   "metadata": {},
   "outputs": [
    {
     "data": {
      "image/png": "[encoded data removed]",
      "text/plain": [
       "<Figure size 432x288 with 4 Axes>"
      ]
     },
     "metadata": {},
     "output_type": "display_data"
    }
   ],
   "source": [
    "# For displaying the filters\n",
    "for i in range(len(filters)):\n",
    "    plt.subplot(2,2,(i+1))\n",
    "    \n",
    "    plt.imshow(f_spectrum[i], cmap='gray')\n",
    "    plt.title(filters_name[i])\n",
    "    plt.xticks([])\n",
    "    plt.yticks([])\n",
    "    "
   ]
  }
 ],
 "metadata": {
  "kernelspec": {
   "display_name": "Python 3 (ipykernel)",
   "language": "python",
   "name": "python3"
  },
  "language_info": {
   "codemirror_mode": {
    "name": "ipython",
    "version": 3
   },
   "file_extension": ".py",
   "mimetype": "text/x-python",
   "name": "python",
   "nbconvert_exporter": "python",
   "pygments_lexer": "ipython3",
   "version": "3.8.10"
  }
 },
 "nbformat": 4,
 "nbformat_minor": 5
}
